{
 "cells": [
  {
   "cell_type": "code",
   "execution_count": 1,
   "metadata": {
    "collapsed": true
   },
   "outputs": [],
   "source": [
    "import numpy as np\n",
    "import matplotlib.pyplot as plt\n",
    "%matplotlib inline"
   ]
  },
  {
   "cell_type": "markdown",
   "metadata": {},
   "source": [
    "### Предварительно зададим функции для вычисления матричной нормы, числа обусловленности и алгоритм Гаусса"
   ]
  },
  {
   "cell_type": "code",
   "execution_count": 172,
   "metadata": {
    "collapsed": true
   },
   "outputs": [],
   "source": [
    "def gaussForwardSweep(AMatrix, inplace=False):\n",
    "    \"\"\" Forward sweep для Гаусса \"\"\"\n",
    "    A = AMatrix if inplace else AMatrix.copy()\n",
    "    \n",
    "    m = A.shape[0] # Number of equations\n",
    "    factorListSteps = []\n",
    "    \n",
    "    def getFactor(step, num): return (A[num][step]/A[step][step])\n",
    "    \n",
    "    def applyFactor(step, row, factorList):\n",
    "        factor = getFactor(step, row)\n",
    "        factorList.append(factor)\n",
    "        A[row] = A[row] - factor * A[step]\n",
    "    \n",
    "    # For every step...\n",
    "    for step in range(0, m-1):\n",
    "        # Save here all the factors in this step:\n",
    "        factorListTmp = []\n",
    "        # Do the elimination thingy:\n",
    "        for row in range(step+1, m):\n",
    "            applyFactor(step, row, factorListTmp)\n",
    "        # Then save all the factors in the step \n",
    "        # to the array of arrays:\n",
    "        factorListSteps.append(factorListTmp)\n",
    "    \n",
    "    return (A, np.array([np.array(factorList) \n",
    "                         for factorList in factorListSteps]))"
   ]
  },
  {
   "cell_type": "code",
   "execution_count": 288,
   "metadata": {
    "collapsed": true
   },
   "outputs": [],
   "source": [
    "def applyFactors2b(bList, factorListBySteps, inplace=False):\n",
    "    \"\"\" Функция, вычисляющая вектор b', соответствующий применению \n",
    "    к вектору b последовательности преобразований матрицы A при forward pass.\n",
    "    \n",
    "    factorListBySteps -- np.array(np.array([...]), np.array([...]), ...)\n",
    "    \"\"\"\n",
    "    b = bList if inplace else bList.copy()\n",
    "    #print(factorListBySteps)\n",
    "    m = b.shape[0]\n",
    "    for step in range(0, m-1):\n",
    "        #print('step:', step, \"b:\", b)\n",
    "        #print(factorListBySteps[step])\n",
    "        b[step+1:] = b[step+1:] - factorListBySteps[step] * b[step]\n",
    "    return b"
   ]
  },
  {
   "cell_type": "code",
   "execution_count": 268,
   "metadata": {
    "collapsed": true
   },
   "outputs": [],
   "source": [
    "def gaussBackwardSubstitution(A_fs, b_applied):\n",
    "    \"\"\" Gauss Backward Substitution\n",
    "    Arguments:\n",
    "    A_fs -- Matrix of system after Forward Pass (upper triangle)\n",
    "    b_applied -- vector b after forward pass\n",
    "    \"\"\"\n",
    "    m = A_fs.shape[0]\n",
    "    \n",
    "    x = np.empty(m)\n",
    "    m -= 1 # Because we are indexing from 0\n",
    "    x[m] = b_applied[m]/A_fs[m][m]\n",
    "    for i in range(m-1, -1, -1):\n",
    "        #print('>',i)\n",
    "        #print(np.sum(A[i][i+1:] * x[i + 1:]))\n",
    "        x[i] = (b_applied[i] - np.sum(A_fs[i][i+1:] * x[i+1:]))/A_fs[i][i]\n",
    "    return x"
   ]
  },
  {
   "cell_type": "code",
   "execution_count": 269,
   "metadata": {
    "collapsed": true
   },
   "outputs": [],
   "source": [
    "def gaussNaive(A, b):\n",
    "    \"\"\" Наивный алгоритм Гаусса без пивотинга \"\"\"\n",
    "    m = A.shape[0]\n",
    "    # >>> Forward sweep <<<\n",
    "    if A[0][0] == 0:\n",
    "        print(\"a_00 = 0. Use pivoting, sucker!\")\n",
    "        return\n",
    "    \n",
    "    # Do a forward sweep and get an array of all the factors:\n",
    "    A, factors = gaussForwardSweep(A)\n",
    "    # Apply factors from the array of factors to vector b:\n",
    "    b = applyFactors2b(b, factors)\n",
    "    \n",
    "    # >>> Back substitution <<<\n",
    "    x = gaussBackwardSubstitution(A, b)\n",
    "    return x"
   ]
  },
  {
   "cell_type": "code",
   "execution_count": 229,
   "metadata": {
    "collapsed": true
   },
   "outputs": [],
   "source": [
    "def gaussCheck(A, solution):\n",
    "    \"\"\" Функция проверки работы алгоритма Гаусса.\n",
    "    На входе -- матрица системы и вектор решений\n",
    "    \"\"\"\n",
    "    results = []\n",
    "    for i in range(A.shape[0]):\n",
    "        q = 0\n",
    "        for j in range(A.shape[1]):\n",
    "            q += A[i][j] * solution[j]\n",
    "        results.append(q)\n",
    "    return results"
   ]
  },
  {
   "cell_type": "code",
   "execution_count": 240,
   "metadata": {
    "collapsed": true
   },
   "outputs": [],
   "source": [
    "# inf норма матрицы\n",
    "def mtrInfNorm(M):\n",
    "    return np.linalg.norm(M, np.inf)"
   ]
  },
  {
   "cell_type": "code",
   "execution_count": 242,
   "metadata": {
    "collapsed": true
   },
   "outputs": [],
   "source": [
    "# Число обусловленности для матрицы по inf норме\n",
    "def condi(M):\n",
    "    return mtrInfNorm(M) * mtrInfNorm(np.linalg.inv(M))"
   ]
  },
  {
   "cell_type": "markdown",
   "metadata": {},
   "source": [
    "# Задача 3.1"
   ]
  },
  {
   "cell_type": "markdown",
   "metadata": {},
   "source": [
    "$$ N = 24; n = 4 $$\n",
    "$$ b_i = N, \\forall i=1..n$$\n",
    "\n",
    "$$ a_{i, j} = \\frac{159}{10 c_{i, j}^3 + c_{i, j}^2 + 25}$$\n",
    "\n",
    "$$ c_{i, j} = 0.1\\cdot N\\cdot i\\cdot j, \\forall i, j = 1..n $$"
   ]
  },
  {
   "cell_type": "markdown",
   "metadata": {},
   "source": [
    "## пт.1) Зададим матрицу $A$ и вектор $b$. Потом решим полученную систему"
   ]
  },
  {
   "cell_type": "code",
   "execution_count": 249,
   "metadata": {
    "collapsed": true
   },
   "outputs": [],
   "source": [
    "def c_ij(i, j, N): \n",
    "    return 0.1 * N * i * j"
   ]
  },
  {
   "cell_type": "code",
   "execution_count": 250,
   "metadata": {
    "collapsed": true
   },
   "outputs": [],
   "source": [
    "def a_ij(i, j, N, func_c):  \n",
    "    c = func_c(i, j, N)\n",
    "    a = 159/(10 * np.power(c, 3) + np.power(c, 2) + 25)\n",
    "    return a"
   ]
  },
  {
   "cell_type": "code",
   "execution_count": 257,
   "metadata": {
    "collapsed": true
   },
   "outputs": [],
   "source": [
    "def genA(N, n, func_a, func_c):\n",
    "    A = np.empty((n, n))\n",
    "    for row in range(n):\n",
    "        a_row = [func_a(row, j, N, func_c) for j in range(n)]\n",
    "        A[row] = a_row\n",
    "    return A"
   ]
  },
  {
   "cell_type": "markdown",
   "metadata": {},
   "source": [
    "### Определим константы (номер варианта, размерность системы)"
   ]
  },
  {
   "cell_type": "code",
   "execution_count": 256,
   "metadata": {
    "collapsed": true
   },
   "outputs": [],
   "source": [
    "N = 24\n",
    "n = 4"
   ]
  },
  {
   "cell_type": "markdown",
   "metadata": {},
   "source": [
    "### И, наконец, сгенерируем матрицу $A$"
   ]
  },
  {
   "cell_type": "code",
   "execution_count": 258,
   "metadata": {},
   "outputs": [
    {
     "data": {
      "text/plain": [
       "array([[  6.36000000e+00,   6.36000000e+00,   6.36000000e+00,\n",
       "          6.36000000e+00],\n",
       "       [  6.36000000e+00,   9.40828402e-01,   1.37786405e-01,\n",
       "          4.17397331e-02],\n",
       "       [  6.36000000e+00,   1.37786405e-01,   1.77365882e-02,\n",
       "          5.28376124e-03],\n",
       "       [  6.36000000e+00,   4.17397331e-02,   5.28376124e-03,\n",
       "          1.57008318e-03]])"
      ]
     },
     "execution_count": 258,
     "metadata": {},
     "output_type": "execute_result"
    }
   ],
   "source": [
    "A = genA(N, n, a_ij, c_ij)\n",
    "A"
   ]
  },
  {
   "cell_type": "code",
   "execution_count": 274,
   "metadata": {},
   "outputs": [
    {
     "data": {
      "text/plain": [
       "array([ 24.,  24.,  24.,  24.])"
      ]
     },
     "execution_count": 274,
     "metadata": {},
     "output_type": "execute_result"
    }
   ],
   "source": [
    "b = np.full(n, N, dtype=float)\n",
    "b"
   ]
  },
  {
   "cell_type": "markdown",
   "metadata": {},
   "source": [
    "### Решим полученныю систему"
   ]
  },
  {
   "cell_type": "code",
   "execution_count": 270,
   "metadata": {},
   "outputs": [
    {
     "name": "stdout",
     "output_type": "stream",
     "text": [
      "[array([ 1.,  1.,  1.]) array([ 1.14818538,  1.16590888])\n",
      " array([ 1.12197958])]\n",
      "step: 0 b: [24 24 24 24]\n",
      "[ 1.  1.  1.]\n",
      "step: 1 b: [24  0  0  0]\n",
      "[ 1.14818538  1.16590888]\n",
      "step: 2 b: [24  0  0  0]\n",
      "[ 1.12197958]\n"
     ]
    },
    {
     "data": {
      "text/plain": [
       "array([ 3.77358491, -0.        ,  0.        , -0.        ])"
      ]
     },
     "execution_count": 270,
     "metadata": {},
     "output_type": "execute_result"
    }
   ],
   "source": [
    "sol = gaussNaive(A, b)\n",
    "sol"
   ]
  },
  {
   "cell_type": "markdown",
   "metadata": {},
   "source": [
    "### Проверим корректность работы алгоритма"
   ]
  },
  {
   "cell_type": "code",
   "execution_count": 261,
   "metadata": {},
   "outputs": [
    {
     "data": {
      "text/plain": [
       "[24.0, 24.0, 24.0, 24.0]"
      ]
     },
     "execution_count": 261,
     "metadata": {},
     "output_type": "execute_result"
    }
   ],
   "source": [
    "gaussCheck(A, sol)"
   ]
  },
  {
   "cell_type": "markdown",
   "metadata": {},
   "source": [
    "## пт.2) Вычислим число обусловленности матрицы $A$"
   ]
  },
  {
   "cell_type": "code",
   "execution_count": 262,
   "metadata": {},
   "outputs": [
    {
     "data": {
      "text/plain": [
       "42886.344666270939"
      ]
     },
     "execution_count": 262,
     "metadata": {},
     "output_type": "execute_result"
    }
   ],
   "source": [
    "matrixACondNumber = condi(A)\n",
    "matrixACondNumber"
   ]
  },
  {
   "cell_type": "markdown",
   "metadata": {},
   "source": [
    "We have a poorly-conditioned system"
   ]
  },
  {
   "cell_type": "markdown",
   "metadata": {},
   "source": [
    "## пт. 3) Исследование погрешностей"
   ]
  },
  {
   "cell_type": "markdown",
   "metadata": {},
   "source": [
    "Примем решение sol за точное. Вычислим следующие величины:\n",
    "\n",
    "$$ d = (d_1, ..., d_n)^T$$\n",
    "\n",
    "$ d_i = \\frac{\\Vert x - x^i \\Vert _{\\infty}}{\\Vert x \\Vert _\\infty}, i = 1..n $, где $ x^i $ -- погрешности решений систем $Ax^i = b^i, i = 1..n$, где $b^i$ вычисляется так:\n",
    "\n",
    "$$ b^{i}_k = \n",
    "   \\begin{cases}\n",
    "        b_k + \\varDelta, & k = i \\\\\n",
    "        b_k, & k \\ne i\n",
    "    \\end{cases}\n",
    "$$\n",
    "\n",
    "Где $\\varDelta$ -- произвольная погрешность"
   ]
  },
  {
   "cell_type": "markdown",
   "metadata": {},
   "source": [
    "Значит, нам надо сгенерировать $n$ систем с одинаковыми матрицами $A$, но разными векторами свободных членов, найти их решения и на основе погрешностей этих решений относительно канонического решения составить вектор $d$"
   ]
  },
  {
   "cell_type": "code",
   "execution_count": 267,
   "metadata": {},
   "outputs": [
    {
     "data": {
      "text/plain": [
       "0.5432432929685788"
      ]
     },
     "execution_count": 267,
     "metadata": {},
     "output_type": "execute_result"
    }
   ],
   "source": [
    "DELTA = np.random.rand()\n",
    "DELTA"
   ]
  },
  {
   "cell_type": "markdown",
   "metadata": {},
   "source": [
    "### Сгенерируем векторы $b^i$"
   ]
  },
  {
   "cell_type": "code",
   "execution_count": 272,
   "metadata": {
    "collapsed": true
   },
   "outputs": [],
   "source": [
    "def genBi(b, n, delta):\n",
    "    bs = []\n",
    "    for i in range(n):\n",
    "        bCur = b.copy()\n",
    "        bCur[i] = bCur[i] + delta\n",
    "        bs.append(bCur)\n",
    "    return np.array(bs)"
   ]
  },
  {
   "cell_type": "code",
   "execution_count": 276,
   "metadata": {},
   "outputs": [
    {
     "data": {
      "text/plain": [
       "array([[ 24.54324329,  24.        ,  24.        ,  24.        ],\n",
       "       [ 24.        ,  24.54324329,  24.        ,  24.        ],\n",
       "       [ 24.        ,  24.        ,  24.54324329,  24.        ],\n",
       "       [ 24.        ,  24.        ,  24.        ,  24.54324329]])"
      ]
     },
     "execution_count": 276,
     "metadata": {},
     "output_type": "execute_result"
    }
   ],
   "source": [
    "bVectorsWithDelta = genBi(b, n, DELTA)\n",
    "bVectorsWithDelta"
   ]
  },
  {
   "cell_type": "markdown",
   "metadata": {},
   "source": [
    "### Используя приведенную к верхнетреугольному виду матрицу $A$ решим системы при разных векторах свободных членов"
   ]
  },
  {
   "cell_type": "code",
   "execution_count": 278,
   "metadata": {},
   "outputs": [
    {
     "name": "stdout",
     "output_type": "stream",
     "text": [
      "[[  6.36000000e+00   6.36000000e+00   6.36000000e+00   6.36000000e+00]\n",
      " [  0.00000000e+00  -5.41917160e+00  -6.22221359e+00  -6.31826027e+00]\n",
      " [  0.00000000e+00   0.00000000e+00   8.01991263e-01   8.99817821e-01]\n",
      " [  0.00000000e+00   0.00000000e+00   0.00000000e+00  -1.49141055e-03]]\n"
     ]
    }
   ],
   "source": [
    "A_forwardSweep, b_factors = gaussForwardSweep(A)\n",
    "print(A_forwardSweep)"
   ]
  },
  {
   "cell_type": "code",
   "execution_count": 289,
   "metadata": {
    "collapsed": true
   },
   "outputs": [],
   "source": [
    "solutions = []\n",
    "for b_vector in bVectorsWithDelta:\n",
    "    bVectorAppliedFactors = applyFactors2b(b_vector, b_factors)\n",
    "    curSol = gaussBackwardSubstitution(A_forwardSweep, bVectorAppliedFactors)\n",
    "    solutions.append(curSol)"
   ]
  },
  {
   "cell_type": "markdown",
   "metadata": {},
   "source": [
    "### Полученные решения систем"
   ]
  },
  {
   "cell_type": "code",
   "execution_count": 290,
   "metadata": {},
   "outputs": [
    {
     "data": {
      "text/plain": [
       "[array([  3.77358491e+00,   6.83346225e-04,  -4.35169902e-02,\n",
       "          1.28249248e-01]),\n",
       " array([  3.77426825,  -4.65823535,  49.21661787, -44.55906587]),\n",
       " array([   3.73006792,   49.21661787, -457.85190557,  408.67880469]),\n",
       " array([   3.90183415,  -44.55906587,  408.67880469, -364.24798807])]"
      ]
     },
     "execution_count": 290,
     "metadata": {},
     "output_type": "execute_result"
    }
   ],
   "source": [
    "solutions"
   ]
  },
  {
   "cell_type": "markdown",
   "metadata": {},
   "source": [
    "### Вычислим вектор $b$"
   ]
  },
  {
   "cell_type": "code",
   "execution_count": 291,
   "metadata": {
    "collapsed": true
   },
   "outputs": [],
   "source": [
    "b_errors = []\n",
    "for i in range(n):\n",
    "    b_error_cur = np.linalg.norm(sol - solutions[i], np.inf)/np.linalg.norm(sol, np.inf)\n",
    "    b_errors.append(b_error_cur)"
   ]
  },
  {
   "cell_type": "code",
   "execution_count": 292,
   "metadata": {},
   "outputs": [
    {
     "data": {
      "text/plain": [
       "[0.033986050840938573,\n",
       " 13.042403735856876,\n",
       " 121.33075497616122,\n",
       " 108.29988324271756]"
      ]
     },
     "execution_count": 292,
     "metadata": {},
     "output_type": "execute_result"
    }
   ],
   "source": [
    "b_errors"
   ]
  },
  {
   "cell_type": "markdown",
   "metadata": {},
   "source": [
    "### Построим гистограмму"
   ]
  },
  {
   "cell_type": "code",
   "execution_count": 307,
   "metadata": {},
   "outputs": [
    {
     "data": {
      "text/plain": [
       "<Container object of 4 artists>"
      ]
     },
     "execution_count": 307,
     "metadata": {},
     "output_type": "execute_result"
    },
    {
     "data": {
      "image/png": "[encoded data removed]",
      "text/plain": [
       "<matplotlib.figure.Figure at 0x7f920ed649e8>"
      ]
     },
     "metadata": {},
     "output_type": "display_data"
    }
   ],
   "source": [
    "lbl = [\"{0}я комп-та\".format(i) for i in range(n)]\n",
    "fig, ax = plt.subplots()\n",
    "ics = np.arange(4)\n",
    "\n",
    "ax.set_xticks(ics)\n",
    "ax.set_xticklabels(lbl)\n",
    "ax.bar(ics, b_errors)"
   ]
  },
  {
   "cell_type": "markdown",
   "metadata": {},
   "source": [
    "### Оценим теоретические погрешности $x^m$"
   ]
  },
  {
   "cell_type": "code",
   "execution_count": 308,
   "metadata": {
    "collapsed": true
   },
   "outputs": [],
   "source": [
    "theoretical_errors = []\n",
    "for i in range(n):\n",
    "    th_error = matrixACondNumber * np.linalg.norm(b - bVectorsWithDelta[i], np.inf)/np.linalg.norm(b, np.inf)\n",
    "    theoretical_errors.append(th_error)"
   ]
  },
  {
   "cell_type": "code",
   "execution_count": 309,
   "metadata": {},
   "outputs": [
    {
     "data": {
      "text/plain": [
       "[970.7382958287709, 970.7382958287709, 970.7382958287709, 970.7382958287709]"
      ]
     },
     "execution_count": 309,
     "metadata": {},
     "output_type": "execute_result"
    }
   ],
   "source": [
    "theoretical_errors"
   ]
  },
  {
   "cell_type": "code",
   "execution_count": 310,
   "metadata": {},
   "outputs": [
    {
     "data": {
      "text/plain": [
       "<Container object of 4 artists>"
      ]
     },
     "execution_count": 310,
     "metadata": {},
     "output_type": "execute_result"
    },
    {
     "data": {
      "image/png": "[encoded data removed]",
      "text/plain": [
       "<matplotlib.figure.Figure at 0x7f920ed1a6d8>"
      ]
     },
     "metadata": {},
     "output_type": "display_data"
    }
   ],
   "source": [
    "lbl = [\"{0}я комп-та\".format(i) for i in range(n)]\n",
    "fig, ax = plt.subplots()\n",
    "ics = np.arange(4)\n",
    "\n",
    "ax.set_xticks(ics)\n",
    "ax.set_xticklabels(lbl)\n",
    "ax.bar(ics, theoretical_errors)"
   ]
  },
  {
   "cell_type": "code",
   "execution_count": null,
   "metadata": {
    "collapsed": true
   },
   "outputs": [],
   "source": []
  }
 ],
 "metadata": {
  "kernelspec": {
   "display_name": "Python 3",
   "language": "python",
   "name": "python3"
  },
  "language_info": {
   "codemirror_mode": {
    "name": "ipython",
    "version": 3
   },
   "file_extension": ".py",
   "mimetype": "text/x-python",
   "name": "python",
   "nbconvert_exporter": "python",
   "pygments_lexer": "ipython3",
   "version": "3.6.1"
  }
 },
 "nbformat": 4,
 "nbformat_minor": 2
}
