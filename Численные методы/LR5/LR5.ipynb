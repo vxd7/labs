{
 "cells": [
  {
   "cell_type": "markdown",
   "metadata": {},
   "source": [
    "# Лабораторная работа 5"
   ]
  },
  {
   "cell_type": "code",
   "execution_count": 1,
   "metadata": {
    "collapsed": true
   },
   "outputs": [],
   "source": [
    "import numpy as np\n",
    "import matplotlib.pyplot as plt\n",
    "%matplotlib inline"
   ]
  },
  {
   "cell_type": "markdown",
   "metadata": {
    "collapsed": true
   },
   "source": [
    "Вариант 24\n",
    "\n"
   ]
  },
  {
   "cell_type": "code",
   "execution_count": 2,
   "metadata": {},
   "outputs": [
    {
     "data": {
      "text/plain": [
       "array([[ 118.8 ,  -14.  ,   -5.  ,  -89.1 ],\n",
       "       [ -14.85,  -20.  ,   -5.  ,    0.  ],\n",
       "       [ 297.  ,   16.  ,  320.  ,    0.  ],\n",
       "       [   0.  ,    6.  ,  -30.  ,  -36.3 ]])"
      ]
     },
     "execution_count": 2,
     "metadata": {},
     "output_type": "execute_result"
    }
   ],
   "source": [
    "A = np.array([\n",
    "    [118.8, -14, -5, -89.1],\n",
    "    [-14.85, -20, -5, 0],\n",
    "    [297, 16, 320, 0],\n",
    "    [0, 6, -30, -36.3]\n",
    "])\n",
    "A"
   ]
  },
  {
   "cell_type": "code",
   "execution_count": 4,
   "metadata": {},
   "outputs": [
    {
     "data": {
      "text/plain": [
       "array([  9.43000000e+02,  -8.07000000e+01,   2.60280000e+03,\n",
       "         1.10000000e+00])"
      ]
     },
     "execution_count": 4,
     "metadata": {},
     "output_type": "execute_result"
    }
   ],
   "source": [
    "b = np.array([943, -80.7, 2602.8, 1.1])\n",
    "b"
   ]
  },
  {
   "cell_type": "markdown",
   "metadata": {},
   "source": [
    "### Найдем решения с помощью встроенного метода"
   ]
  },
  {
   "cell_type": "code",
   "execution_count": 110,
   "metadata": {},
   "outputs": [
    {
     "data": {
      "text/plain": [
       "array([ 6.23545277, -1.19639624,  2.40629021, -2.21672407])"
      ]
     },
     "execution_count": 110,
     "metadata": {},
     "output_type": "execute_result"
    }
   ],
   "source": [
    "x_sol = np.linalg.solve(A, b)\n",
    "x_sol"
   ]
  },
  {
   "cell_type": "markdown",
   "metadata": {},
   "source": [
    "### Преобразуем систему $Ax = b$ в вид, удобный для итераций:\n",
    "\n",
    "$$x = Bx + c$$"
   ]
  },
  {
   "cell_type": "code",
   "execution_count": 36,
   "metadata": {},
   "outputs": [
    {
     "data": {
      "text/plain": [
       "(4, 4)"
      ]
     },
     "execution_count": 36,
     "metadata": {},
     "output_type": "execute_result"
    }
   ],
   "source": [
    "A.shape"
   ]
  },
  {
   "cell_type": "code",
   "execution_count": 70,
   "metadata": {
    "collapsed": true
   },
   "outputs": [],
   "source": [
    "def transform4zeidel(A, b):\n",
    "    num_vars = A.shape[1]\n",
    "    \n",
    "    B = np.empty(A.shape, dtype=float)\n",
    "    c = np.empty(b.shape)\n",
    "    \n",
    "    for i in range(num_vars):\n",
    "        l = np.hstack([A[i][:i], [0], A[i][i+1:]])\n",
    "        B[i] = ((-1)*l)/A[i][i]\n",
    "        c[i] = b[i]/A[i][i]\n",
    "    return B, c"
   ]
  },
  {
   "cell_type": "code",
   "execution_count": 71,
   "metadata": {},
   "outputs": [],
   "source": [
    "B, c = transform4zeidel(A, b)"
   ]
  },
  {
   "cell_type": "code",
   "execution_count": 72,
   "metadata": {},
   "outputs": [
    {
     "data": {
      "text/plain": [
       "array([[-0.        ,  0.11784512,  0.04208754,  0.75      ],\n",
       "       [-0.7425    ,  0.        , -0.25      ,  0.        ],\n",
       "       [-0.928125  , -0.05      , -0.        , -0.        ],\n",
       "       [ 0.        ,  0.16528926, -0.82644628,  0.        ]])"
      ]
     },
     "execution_count": 72,
     "metadata": {},
     "output_type": "execute_result"
    }
   ],
   "source": [
    "B"
   ]
  },
  {
   "cell_type": "code",
   "execution_count": 73,
   "metadata": {},
   "outputs": [
    {
     "data": {
      "text/plain": [
       "array([ 7.93771044,  4.035     ,  8.13375   , -0.03030303])"
      ]
     },
     "execution_count": 73,
     "metadata": {},
     "output_type": "execute_result"
    }
   ],
   "source": [
    "c"
   ]
  },
  {
   "cell_type": "markdown",
   "metadata": {},
   "source": [
    "### Проверим достаточное условие сходимости итерационных методов: $||B||_\\infty<1$"
   ]
  },
  {
   "cell_type": "code",
   "execution_count": 74,
   "metadata": {},
   "outputs": [
    {
     "data": {
      "text/plain": [
       "0.99249999999999994"
      ]
     },
     "execution_count": 74,
     "metadata": {},
     "output_type": "execute_result"
    }
   ],
   "source": [
    "np.linalg.norm(B, ord=np.inf)"
   ]
  },
  {
   "cell_type": "markdown",
   "metadata": {},
   "source": [
    "Достаточное условие сходимости выполняется"
   ]
  },
  {
   "cell_type": "markdown",
   "metadata": {},
   "source": [
    "### Реализуем метод Зейделя"
   ]
  },
  {
   "cell_type": "code",
   "execution_count": 130,
   "metadata": {
    "collapsed": true
   },
   "outputs": [],
   "source": [
    "def zeid(B, c, k, x0):\n",
    "    # k -- number of iterations\n",
    "    # x0 -- initial approx\n",
    "    num_vars = c.shape[0]\n",
    "    res = x0.astype(float) # Copy array and cast to float\n",
    "    \n",
    "    for i in range(k):\n",
    "        for var in range(num_vars):\n",
    "            #print(\"B[{2}] is {0} and res is {1}\".format(B[var], res, var))\n",
    "            res[var] = np.dot(B[var], res) + c[var]\n",
    "    return res"
   ]
  },
  {
   "cell_type": "code",
   "execution_count": 133,
   "metadata": {},
   "outputs": [],
   "source": [
    "x0_1 = np.array([1, 2, 3, 4])"
   ]
  },
  {
   "cell_type": "code",
   "execution_count": 134,
   "metadata": {},
   "outputs": [
    {
     "data": {
      "text/plain": [
       "array([ 6.23957948, -1.19744089,  2.40251234, -2.21377453])"
      ]
     },
     "execution_count": 134,
     "metadata": {},
     "output_type": "execute_result"
    }
   ],
   "source": [
    "zeid_sol = zeid(B, c, 10, x0_1)\n",
    "zeid_sol"
   ]
  },
  {
   "cell_type": "markdown",
   "metadata": {},
   "source": [
    "### Найдем величину абсолютной погрешности решения методом Зейделя (10 итераций) и решения, полученного с использованием np.linalg.solve"
   ]
  },
  {
   "cell_type": "code",
   "execution_count": 113,
   "metadata": {
    "collapsed": true
   },
   "outputs": [],
   "source": [
    "def absolute_vector_error(vec, vec_true):\n",
    "    # Absolute error of vector vec\n",
    "    return np.linalg.norm(vec_true - vec, ord=np.inf)/np.linalg.norm(vec_true)"
   ]
  },
  {
   "cell_type": "code",
   "execution_count": 118,
   "metadata": {},
   "outputs": [
    {
     "data": {
      "text/plain": [
       "0.00057776236332402918"
      ]
     },
     "execution_count": 118,
     "metadata": {},
     "output_type": "execute_result"
    }
   ],
   "source": [
    "absolute_vector_error(zeid_sol, x_sol)"
   ]
  },
  {
   "cell_type": "markdown",
   "metadata": {},
   "source": [
    "### Возьмем другое начальное приближение"
   ]
  },
  {
   "cell_type": "code",
   "execution_count": 135,
   "metadata": {
    "collapsed": true
   },
   "outputs": [],
   "source": [
    "x0_2 = np.array([5, 0, 1, -1])"
   ]
  },
  {
   "cell_type": "code",
   "execution_count": 136,
   "metadata": {},
   "outputs": [
    {
     "data": {
      "text/plain": [
       "array([ 6.23645081, -1.19664889,  2.40537654, -2.21601073])"
      ]
     },
     "execution_count": 136,
     "metadata": {},
     "output_type": "execute_result"
    }
   ],
   "source": [
    "zeid_sol = zeid(B, c, 10, x0_2)\n",
    "zeid_sol"
   ]
  },
  {
   "cell_type": "code",
   "execution_count": 132,
   "metadata": {},
   "outputs": [
    {
     "data": {
      "text/plain": [
       "0.00013973084942861774"
      ]
     },
     "execution_count": 132,
     "metadata": {},
     "output_type": "execute_result"
    }
   ],
   "source": [
    "absolute_vector_error(zeid_sol, x_sol)"
   ]
  },
  {
   "cell_type": "markdown",
   "metadata": {},
   "source": [
    "Как видим, в первом случае нами был взят вектор начальных приближений $x_{0, 1} = (1, 2, 3, 4)^T$, и было получено решение с величиной абсолютной погрешности $err_1 = 0.000577$.  \n",
    "\n",
    "Во втором случае мы взяли вектор $x_{0, 2} = (5, 0, 1, -1)^T$ в качестве начального приближения и получили величину абсолютной погрешности $err_2 = 0.000139$.\n",
    "\n",
    "Рассчитаем, насколько близко стояли значения начальных приближений к идеальному решению, полученному с помощью np.linalg.solve:"
   ]
  },
  {
   "cell_type": "code",
   "execution_count": 138,
   "metadata": {},
   "outputs": [
    {
     "name": "stdout",
     "output_type": "stream",
     "text": [
      "В первом случае: 6.216724066974245\n",
      "Во втором случае: 1.4062902072909207\n"
     ]
    }
   ],
   "source": [
    "# Идеальное решение x_sol\n",
    "# Приближение в первом случае x0_1\n",
    "# Приближение во втором случае x0_2\n",
    "d_1 = np.linalg.norm(x_sol - x0_1, ord=np.inf)\n",
    "d_2 = np.linalg.norm(x_sol - x0_2, ord=np.inf)\n",
    "print(\"В первом случае: {0}\\nВо втором случае: {1}\".format(d_1, d_2))"
   ]
  },
  {
   "cell_type": "markdown",
   "metadata": {},
   "source": [
    "Как видим, во втором случае мы взяли начальное приближение, стоящее ближе к истинному корню, чем приближение в первом случае. А значит, с учетом того, что алгоритм работал с фиксированным количеством итераций (10 шт), делем вывод, что во втором случае решение должно получиться с большей точностью и меньшей погрешностью. \n",
    "\n",
    "В общем, данный вывод соответствует практически полученным результатам."
   ]
  },
  {
   "cell_type": "markdown",
   "metadata": {},
   "source": [
    "### Перепишем алгоритм для нахождения решения с наперед заданной точностью $\\epsilon$ и подсчетом количества итераций"
   ]
  },
  {
   "cell_type": "code",
   "execution_count": 139,
   "metadata": {
    "collapsed": true
   },
   "outputs": [],
   "source": [
    "def converges(x_prev, x_cur, eps):\n",
    "    return np.linalg.norm(x_prev - x_cur, ord=np.inf) <= eps"
   ]
  },
  {
   "cell_type": "code",
   "execution_count": 148,
   "metadata": {},
   "outputs": [],
   "source": [
    "def zeid_eps(B, c, eps, x0):\n",
    "     # k -- number of iterations\n",
    "    # x0 -- initial approx\n",
    "    num_vars = c.shape[0]\n",
    "    res = x0.astype(float) # Copy array and cast to float\n",
    "    itercount = 0\n",
    "    \n",
    "    while True:\n",
    "        res_prev = res.copy()\n",
    "        itercount += 1\n",
    "        for var in range(num_vars):\n",
    "            res[var] = np.dot(B[var], res) + c[var]\n",
    "        \n",
    "        if converges(res_prev, res, EPS):\n",
    "            break\n",
    "    return res, itercount"
   ]
  },
  {
   "cell_type": "code",
   "execution_count": 152,
   "metadata": {},
   "outputs": [
    {
     "name": "stdout",
     "output_type": "stream",
     "text": [
      "Получено решение с точностью 1e-06: [ 6.235453 -1.196396  2.40629  -2.216724]\n",
      "За 22 итераций\n"
     ]
    }
   ],
   "source": [
    "EPS=1e-6\n",
    "EPSNUMS = np.int(np.abs(np.log10(EPS)))\n",
    "\n",
    "zeid_sol_eps = zeid_eps(B, c, EPS, x0_1)\n",
    "\n",
    "print(\"Получено решение с точностью {0}: {1}\\nЗа {2} итераций\".format(EPS, np.around(zeid_sol_eps[0], EPSNUMS), zeid_sol_eps[1]))"
   ]
  },
  {
   "cell_type": "code",
   "execution_count": null,
   "metadata": {
    "collapsed": true
   },
   "outputs": [],
   "source": []
  }
 ],
 "metadata": {
  "kernelspec": {
   "display_name": "Python 3",
   "language": "python",
   "name": "python3"
  },
  "language_info": {
   "codemirror_mode": {
    "name": "ipython",
    "version": 3
   },
   "file_extension": ".py",
   "mimetype": "text/x-python",
   "name": "python",
   "nbconvert_exporter": "python",
   "pygments_lexer": "ipython3",
   "version": "3.6.1"
  }
 },
 "nbformat": 4,
 "nbformat_minor": 2
}
